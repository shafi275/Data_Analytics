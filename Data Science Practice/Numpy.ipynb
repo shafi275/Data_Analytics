{
 "cells": [
  {
   "cell_type": "code",
   "execution_count": 4,
   "id": "980731e1-e5d6-40b3-a443-c924edaaeeda",
   "metadata": {},
   "outputs": [
    {
     "name": "stdout",
     "output_type": "stream",
     "text": [
      "[ 1  2  3  4  5  6  7  8  9 10]\n",
      "[[15 13 13]\n",
      " [ 1 11 14]\n",
      " [ 4  3 11]]\n"
     ]
    }
   ],
   "source": [
    "import numpy as np\n",
    "\n",
    "# Create a 1D array of integers from 1 to 10\n",
    "array_1d = np.arange(1, 11)\n",
    "print(array_1d)\n",
    "\n",
    "# Create a 2D array with shape (3, 3) containing random integers between 1 and 20\n",
    "array_2d = np.random.randint(1, 21, (3, 3))\n",
    "print(array_2d)\n"
   ]
  },
  {
   "cell_type": "code",
   "execution_count": 5,
   "id": "cfa6a79c-7adb-47a1-98c9-517c89f1dd00",
   "metadata": {},
   "outputs": [
    {
     "name": "stdout",
     "output_type": "stream",
     "text": [
      "Addition: [5 7 9]\n",
      "Subtraction: [-3 -3 -3]\n",
      "Multiplication: [ 4 10 18]\n",
      "Division: [0.25 0.4  0.5 ]\n"
     ]
    }
   ],
   "source": [
    "# Create two arrays\n",
    "array_a = np.array([1, 2, 3])\n",
    "array_b = np.array([4, 5, 6])\n",
    "\n",
    "# Perform operations\n",
    "addition = array_a + array_b\n",
    "subtraction = array_a - array_b\n",
    "multiplication = array_a * array_b\n",
    "division = array_a / array_b\n",
    "\n",
    "print(\"Addition:\", addition)\n",
    "print(\"Subtraction:\", subtraction)\n",
    "print(\"Multiplication:\", multiplication)\n",
    "print(\"Division:\", division)\n"
   ]
  },
  {
   "cell_type": "code",
   "execution_count": 6,
   "id": "6ad84fa1-e051-4655-a12c-08e97224c1ef",
   "metadata": {},
   "outputs": [
    {
     "name": "stdout",
     "output_type": "stream",
     "text": [
      "Shape: (3, 3)\n",
      "Size: 9\n",
      "Data Type: int32\n"
     ]
    }
   ],
   "source": [
    "# Properties of a 2D array\n",
    "print(\"Shape:\", array_2d.shape)\n",
    "print(\"Size:\", array_2d.size)\n",
    "print(\"Data Type:\", array_2d.dtype)\n"
   ]
  },
  {
   "cell_type": "code",
   "execution_count": 7,
   "id": "63b474bd-794f-45e3-8de0-53fd624927f1",
   "metadata": {},
   "outputs": [
    {
     "name": "stdout",
     "output_type": "stream",
     "text": [
      "First Row: [15 13 13]\n",
      "Last Column: [13 14 11]\n"
     ]
    }
   ],
   "source": [
    "# Extract first row\n",
    "first_row = array_2d[0, :]\n",
    "# Extract last column\n",
    "last_column = array_2d[:, -1]\n",
    "\n",
    "print(\"First Row:\", first_row)\n",
    "print(\"Last Column:\", last_column)\n"
   ]
  },
  {
   "cell_type": "code",
   "execution_count": 8,
   "id": "6fc7186b-55d7-4094-b1ce-fe939839fbf6",
   "metadata": {},
   "outputs": [
    {
     "name": "stdout",
     "output_type": "stream",
     "text": [
      "[[ 0  1  2  3]\n",
      " [ 4  5  6  7]\n",
      " [ 8  9 10 11]]\n"
     ]
    }
   ],
   "source": [
    "# Reshape 1D array into 2D array (3, 4)\n",
    "array_reshaped = np.arange(12).reshape(3, 4)\n",
    "print(array_reshaped)\n"
   ]
  },
  {
   "cell_type": "code",
   "execution_count": 9,
   "id": "a6a17967-f722-4b34-acc9-2c1a1f766227",
   "metadata": {},
   "outputs": [
    {
     "name": "stdout",
     "output_type": "stream",
     "text": [
      "Mean: 5.5\n",
      "Median: 5.5\n",
      "Standard Deviation: 2.8722813232690143\n",
      "Variance: 8.25\n"
     ]
    }
   ],
   "source": [
    "# Statistical calculations\n",
    "mean = np.mean(array_1d)\n",
    "median = np.median(array_1d)\n",
    "std_dev = np.std(array_1d)\n",
    "variance = np.var(array_1d)\n",
    "\n",
    "print(\"Mean:\", mean)\n",
    "print(\"Median:\", median)\n",
    "print(\"Standard Deviation:\", std_dev)\n",
    "print(\"Variance:\", variance)\n"
   ]
  },
  {
   "cell_type": "code",
   "execution_count": 10,
   "id": "16d6458b-c406-43c4-8679-0aac47b19bc1",
   "metadata": {},
   "outputs": [
    {
     "name": "stdout",
     "output_type": "stream",
     "text": [
      "[ 1  2  4  5  7  8 10 11 13 14 16 17 19 20]\n"
     ]
    }
   ],
   "source": [
    "# Boolean indexing\n",
    "array_filtered = np.arange(1, 21)[np.arange(1, 21) % 3 != 0]\n",
    "print(array_filtered)\n"
   ]
  },
  {
   "cell_type": "code",
   "execution_count": 11,
   "id": "0ea5dbef-a009-48de-af23-c67a3b408404",
   "metadata": {},
   "outputs": [
    {
     "name": "stdout",
     "output_type": "stream",
     "text": [
      "Matrix Multiplication:\n",
      " [[104  80 102]\n",
      " [ 84 100  56]\n",
      " [ 44  36  42]]\n",
      "Determinant of Matrix A: -51.999999999999986\n"
     ]
    }
   ],
   "source": [
    "# Create two matrices\n",
    "matrix_a = np.random.randint(1, 11, (3, 3))\n",
    "matrix_b = np.random.randint(1, 11, (3, 3))\n",
    "\n",
    "# Matrix multiplication\n",
    "matrix_multiplication = np.dot(matrix_a, matrix_b)\n",
    "# Determinant of matrix_a\n",
    "matrix_determinant = np.linalg.det(matrix_a)\n",
    "\n",
    "print(\"Matrix Multiplication:\\n\", matrix_multiplication)\n",
    "print(\"Determinant of Matrix A:\", matrix_determinant)\n"
   ]
  },
  {
   "cell_type": "code",
   "execution_count": 12,
   "id": "54e3856e-3852-4394-b67b-c6349e840d9e",
   "metadata": {},
   "outputs": [
    {
     "name": "stdout",
     "output_type": "stream",
     "text": [
      "3D Array:\n",
      " [[[  9  57  91]\n",
      "  [ 39  73  36]\n",
      "  [ 80  36  25]]\n",
      "\n",
      " [[ 15  55  52]\n",
      "  [ 50 100  55]\n",
      "  [100   7  97]]\n",
      "\n",
      " [[ 20  98  55]\n",
      "  [ 95  38  45]\n",
      "  [ 84  37  92]]]\n",
      "Shape of 3D Array: (3, 3, 3)\n"
     ]
    }
   ],
   "source": [
    "# Create a 3D array\n",
    "array_3d = np.random.randint(1, 101, (3, 3, 3))\n",
    "print(\"3D Array:\\n\", array_3d)\n",
    "print(\"Shape of 3D Array:\", array_3d.shape)\n"
   ]
  },
  {
   "cell_type": "code",
   "execution_count": 13,
   "id": "f6c4c6ba-ddf0-4c12-9d91-a80ccfd23045",
   "metadata": {},
   "outputs": [
    {
     "name": "stdout",
     "output_type": "stream",
     "text": [
      "Element at (0, 1, 2): 36\n",
      "Second Layer:\n",
      " [[ 57  73  36]\n",
      " [ 55 100   7]\n",
      " [ 98  38  37]]\n"
     ]
    }
   ],
   "source": [
    "# Access element in first row, second column, third depth\n",
    "element_3d = array_3d[0, 1, 2]\n",
    "print(\"Element at (0, 1, 2):\", element_3d)\n",
    "\n",
    "# Slice the second layer\n",
    "second_layer = array_3d[:, :, 1]\n",
    "print(\"Second Layer:\\n\", second_layer)\n"
   ]
  },
  {
   "cell_type": "code",
   "execution_count": 14,
   "id": "bf4a5bfd-9924-4e7d-822a-3e6cda4ef80f",
   "metadata": {},
   "outputs": [
    {
     "name": "stdout",
     "output_type": "stream",
     "text": [
      "Reshaped Array:\n",
      " [[  9  57  91]\n",
      " [ 39  73  36]\n",
      " [ 80  36  25]\n",
      " [ 15  55  52]\n",
      " [ 50 100  55]\n",
      " [100   7  97]\n",
      " [ 20  98  55]\n",
      " [ 95  38  45]\n",
      " [ 84  37  92]]\n"
     ]
    }
   ],
   "source": [
    "# Reshape the 3D array into (9, 3)\n",
    "array_reshaped_3d = array_3d.reshape(9, 3)\n",
    "print(\"Reshaped Array:\\n\", array_reshaped_3d)\n"
   ]
  },
  {
   "cell_type": "code",
   "execution_count": 17,
   "id": "9bce204c-762c-4fbd-b53c-574b0d27db7a",
   "metadata": {},
   "outputs": [
    {
     "name": "stdout",
     "output_type": "stream",
     "text": [
      "Element-wise Addition:\n",
      " [[[ 11  58  92]\n",
      "  [ 50  97  57]\n",
      "  [ 84  47  60]]\n",
      "\n",
      " [[ 24  89  57]\n",
      "  [ 56 122 100]\n",
      "  [128  12 146]]\n",
      "\n",
      " [[ 42 122  85]\n",
      "  [125  48  95]\n",
      "  [121  42 141]]]\n",
      "\n",
      " Element-wise Multiplication:\n",
      " [[[  18   57   91]\n",
      "  [ 429 1752  756]\n",
      "  [ 320  396  875]]\n",
      "\n",
      " [[ 135 1870  260]\n",
      "  [ 300 2200 2475]\n",
      "  [2800   35 4753]]\n",
      "\n",
      " [[ 440 2352 1650]\n",
      "  [2850  380 2250]\n",
      "  [3108  185 4508]]]\n"
     ]
    }
   ],
   "source": [
    "# Create a second 3D array\n",
    "array_3d_2 = np.random.randint(1, 51, (3, 3, 3))\n",
    "\n",
    "# Element-wise addition and multiplication\n",
    "addition_3d = array_3d + array_3d_2\n",
    "multiplication_3d = array_3d * array_3d_2\n",
    "\n",
    "print(\"Element-wise Addition:\\n\", addition_3d)\n",
    "print(\"\\n Element-wise Multiplication:\\n\", multiplication_3d)\n"
   ]
  }
 ],
 "metadata": {
  "kernelspec": {
   "display_name": "Python 3 (ipykernel)",
   "language": "python",
   "name": "python3"
  },
  "language_info": {
   "codemirror_mode": {
    "name": "ipython",
    "version": 3
   },
   "file_extension": ".py",
   "mimetype": "text/x-python",
   "name": "python",
   "nbconvert_exporter": "python",
   "pygments_lexer": "ipython3",
   "version": "3.12.6"
  }
 },
 "nbformat": 4,
 "nbformat_minor": 5
}
