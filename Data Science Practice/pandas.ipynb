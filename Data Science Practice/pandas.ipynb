{
 "cells": [
  {
   "cell_type": "code",
   "execution_count": 1,
   "id": "eb119de4-29e6-4af9-8258-6df581bf54f0",
   "metadata": {
    "scrolled": true
   },
   "outputs": [],
   "source": [
    "!pip install pandas"
   ]
  },
  {
   "cell_type": "code",
   "execution_count": 2,
   "id": "5542a587-7192-4716-a8f0-85a75d6ac5cb",
   "metadata": {},
   "outputs": [
    {
     "name": "stdout",
     "output_type": "stream",
     "text": [
      "Pandas Series:\n",
      "0    10\n",
      "1    20\n",
      "2    30\n",
      "3    40\n",
      "4    50\n",
      "dtype: int64\n",
      "\n",
      "3rd element in the Series: 30\n"
     ]
    }
   ],
   "source": [
    "import pandas as pd\n",
    "\n",
    "data = [10, 20, 30, 40, 50]\n",
    "series = pd.Series(data)\n",
    "\n",
    "third_element = series[2]\n",
    "\n",
    "print(\"Pandas Series:\")\n",
    "print(series)\n",
    "print(\"\\n3rd element in the Series:\", third_element)\n"
   ]
  },
  {
   "cell_type": "code",
   "execution_count": 3,
   "id": "90794628-d6de-47dc-962f-d36dcdadf670",
   "metadata": {},
   "outputs": [
    {
     "name": "stdout",
     "output_type": "stream",
     "text": [
      "DataFrame:\n",
      "      Name  Age         City\n",
      "0    Alice   25     New York\n",
      "1      Bob   30  Los Angeles\n",
      "2  Charlie   35      Chicago\n"
     ]
    }
   ],
   "source": [
    "import pandas as pd\n",
    "\n",
    "data = {\n",
    "    \"Name\": [\"Alice\", \"Bob\", \"Charlie\"],\n",
    "    \"Age\": [25, 30, 35],\n",
    "    \"City\": [\"New York\", \"Los Angeles\", \"Chicago\"]\n",
    "}\n",
    "\n",
    "df = pd.DataFrame(data)\n",
    "\n",
    "print(\"DataFrame:\")\n",
    "print(df)\n"
   ]
  },
  {
   "cell_type": "markdown",
   "id": "8ed15666-ea2d-4ae5-b666-3f835bf807c1",
   "metadata": {},
   "source": [
    "##Filtering and Conditional Selection"
   ]
  },
  {
   "cell_type": "code",
   "execution_count": 12,
   "id": "776b6175-d5bf-49c3-847c-d0e80ca392c3",
   "metadata": {},
   "outputs": [
    {
     "name": "stdout",
     "output_type": "stream",
     "text": [
      "Missing values in each column:\n",
      " PassengerId      0\n",
      "Survived         0\n",
      "Pclass           0\n",
      "Name             0\n",
      "Sex              0\n",
      "Age            177\n",
      "SibSp            0\n",
      "Parch            0\n",
      "Ticket           0\n",
      "Fare             0\n",
      "Cabin          687\n",
      "Embarked         2\n",
      "dtype: int64\n",
      "Filled missing values in 'Age' column with median: 28.0\n"
     ]
    }
   ],
   "source": [
    "import pandas as pd\n",
    "\n",
    "# Load the Titanic dataset\n",
    "titanic = pd.read_csv(\"C:/Users/makmo/Downloads/titanic.csv\")\n",
    "\n",
    "# Identify and count missing values in each column\n",
    "missing_values = titanic.isnull().sum()\n",
    "print(\"Missing values in each column:\\n\", missing_values)\n",
    "\n",
    "median_age = titanic['Age'].median()\n",
    "titanic['Age'] = titanic['Age'].fillna(median_age)\n",
    "\n",
    "print(f\"Filled missing values in 'Age' column with median: {median_age}\")\n"
   ]
  },
  {
   "cell_type": "code",
   "execution_count": 11,
   "id": "2ae6117f-ca7e-4c58-a4b1-83a945adb29f",
   "metadata": {},
   "outputs": [
    {
     "name": "stdout",
     "output_type": "stream",
     "text": [
      "\n",
      "Rows where 'Age' > 30 and 'Survived' = 1:\n",
      "      PassengerId  Survived  Pclass  \\\n",
      "1              2         1       1   \n",
      "3              4         1       1   \n",
      "11            12         1       1   \n",
      "15            16         1       2   \n",
      "21            22         1       2   \n",
      "..           ...       ...     ...   \n",
      "857          858         1       1   \n",
      "862          863         1       1   \n",
      "865          866         1       2   \n",
      "871          872         1       1   \n",
      "879          880         1       1   \n",
      "\n",
      "                                                  Name     Sex   Age  SibSp  \\\n",
      "1    Cumings, Mrs. John Bradley (Florence Briggs Th...  female  38.0      1   \n",
      "3         Futrelle, Mrs. Jacques Heath (Lily May Peel)  female  35.0      1   \n",
      "11                            Bonnell, Miss. Elizabeth  female  58.0      0   \n",
      "15                    Hewlett, Mrs. (Mary D Kingcome)   female  55.0      0   \n",
      "21                               Beesley, Mr. Lawrence    male  34.0      0   \n",
      "..                                                 ...     ...   ...    ...   \n",
      "857                             Daly, Mr. Peter Denis     male  51.0      0   \n",
      "862  Swift, Mrs. Frederick Joel (Margaret Welles Ba...  female  48.0      0   \n",
      "865                           Bystrom, Mrs. (Karolina)  female  42.0      0   \n",
      "871   Beckwith, Mrs. Richard Leonard (Sallie Monypeny)  female  47.0      1   \n",
      "879      Potter, Mrs. Thomas Jr (Lily Alexenia Wilson)  female  56.0      0   \n",
      "\n",
      "     Parch    Ticket     Fare Cabin Embarked  \n",
      "1        0  PC 17599  71.2833   C85        C  \n",
      "3        0    113803  53.1000  C123        S  \n",
      "11       0    113783  26.5500  C103        S  \n",
      "15       0    248706  16.0000   NaN        S  \n",
      "21       0    248698  13.0000   D56        S  \n",
      "..     ...       ...      ...   ...      ...  \n",
      "857      0    113055  26.5500   E17        S  \n",
      "862      0     17466  25.9292   D17        S  \n",
      "865      0    236852  13.0000   NaN        S  \n",
      "871      1     11751  52.5542   D35        S  \n",
      "879      1     11767  83.1583   C50        C  \n",
      "\n",
      "[124 rows x 12 columns]\n",
      "\n",
      "Filtered rows with 'Name' and 'Fare':\n",
      "                                                   Name     Fare\n",
      "1    Cumings, Mrs. John Bradley (Florence Briggs Th...  71.2833\n",
      "3         Futrelle, Mrs. Jacques Heath (Lily May Peel)  53.1000\n",
      "11                            Bonnell, Miss. Elizabeth  26.5500\n",
      "15                    Hewlett, Mrs. (Mary D Kingcome)   16.0000\n",
      "21                               Beesley, Mr. Lawrence  13.0000\n",
      "..                                                 ...      ...\n",
      "857                             Daly, Mr. Peter Denis   26.5500\n",
      "862  Swift, Mrs. Frederick Joel (Margaret Welles Ba...  25.9292\n",
      "865                           Bystrom, Mrs. (Karolina)  13.0000\n",
      "871   Beckwith, Mrs. Richard Leonard (Sallie Monypeny)  52.5542\n",
      "879      Potter, Mrs. Thomas Jr (Lily Alexenia Wilson)  83.1583\n",
      "\n",
      "[124 rows x 2 columns]\n"
     ]
    }
   ],
   "source": [
    "# Select rows where \"Age\" > 30 and \"Survived\" = 1\n",
    "filtered_rows = titanic[(titanic['Age'] > 30) & (titanic['Survived'] == 1)]\n",
    "print(\"\\nRows where 'Age' > 30 and 'Survived' = 1:\\n\", filtered_rows)\n",
    "\n",
    "# Extract only the \"Name\" and \"Fare\" columns for these rows\n",
    "selected_columns = filtered_rows[['Name', 'Fare']]\n",
    "print(\"\\nFiltered rows with 'Name' and 'Fare':\\n\", selected_columns)\n",
    "\n"
   ]
  }
 ],
 "metadata": {
  "kernelspec": {
   "display_name": "Python 3 (ipykernel)",
   "language": "python",
   "name": "python3"
  },
  "language_info": {
   "codemirror_mode": {
    "name": "ipython",
    "version": 3
   },
   "file_extension": ".py",
   "mimetype": "text/x-python",
   "name": "python",
   "nbconvert_exporter": "python",
   "pygments_lexer": "ipython3",
   "version": "3.12.6"
  }
 },
 "nbformat": 4,
 "nbformat_minor": 5
}
